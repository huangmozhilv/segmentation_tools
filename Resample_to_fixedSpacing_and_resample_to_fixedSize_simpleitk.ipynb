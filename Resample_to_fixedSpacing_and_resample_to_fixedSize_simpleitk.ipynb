{
 "cells": [
  {
   "cell_type": "markdown",
   "metadata": {},
   "source": [
    "The use of spatial information is required to correctly resample an image. (refer: http://yanivresearch.info/writtenMaterial/simpleITKNotebooks.pdf)"
   ]
  },
  {
   "cell_type": "code",
   "execution_count": 3,
   "metadata": {},
   "outputs": [],
   "source": [
    "import SimpleITK as sitk\n",
    "import numpy as np\n",
    "import matplotlib.pyplot as plt\n",
    "\n",
    "def myshow(images_list, row_num, col_num, figsize=(20,40)):\n",
    "    num_subfig = len(images_list)\n",
    "    plt.figure(figsize=figsize) # need to custom for how many images to show\n",
    "    for i in range(num_subfig):\n",
    "        plt.subplot(row_num, col_num, i + 1)\n",
    "        plt.imshow(images_list[i], cmap=\"gray\")\n",
    "#         plt.axis('off')\n",
    "    plt.show()"
   ]
  },
  {
   "cell_type": "code",
   "execution_count": 4,
   "metadata": {
    "scrolled": true
   },
   "outputs": [
    {
     "name": "stdout",
     "output_type": "stream",
     "text": [
      "Help on function Resample in module SimpleITK.SimpleITK:\n",
      "\n",
      "Resample(*args)\n",
      "    Resample(Image image1, Transform transform, itk::simple::InterpolatorEnum interpolator, double defaultPixelValue=0.0, itk::simple::PixelIDValueEnum outputPixelType) -> Image\n",
      "    Resample(Image image1, Image referenceImage, Transform transform, itk::simple::InterpolatorEnum interpolator, double defaultPixelValue=0.0, itk::simple::PixelIDValueEnum outputPixelType) -> Image\n",
      "    Resample(Image image1, VectorUInt32 size, Transform transform, itk::simple::InterpolatorEnum interpolator, VectorDouble outputOrigin, VectorDouble outputSpacing, VectorDouble outputDirection, double defaultPixelValue=0.0, itk::simple::PixelIDValueEnum outputPixelType) -> Image\n",
      "\n"
     ]
    }
   ],
   "source": [
    "help(sitk.Resample)"
   ]
  },
  {
   "cell_type": "code",
   "execution_count": 5,
   "metadata": {
    "scrolled": false
   },
   "outputs": [
    {
     "name": "stdout",
     "output_type": "stream",
     "text": [
      "Help on class Transform in module SimpleITK.SimpleITK:\n",
      "\n",
      "class Transform(builtins.object)\n",
      " |  A simplified wrapper around a variety of ITK transforms.\n",
      " |  \n",
      " |  \n",
      " |  The interface to ITK transform objects to be used with the ImageRegistrationMethod, ResampleImageFilter and other SimpleITK process objects. The transforms are designed to\n",
      " |  have a serialized array of parameters to facilitate optimization for\n",
      " |  registration.\n",
      " |  \n",
      " |  Provides a base class interface to any type of ITK transform. Objects\n",
      " |  of this type may have their interface converted to a derived interface\n",
      " |  while keeping the same reference to the ITK object.\n",
      " |  \n",
      " |  Additionally, this class provides a basic interface to a composite\n",
      " |  transforms.\n",
      " |  \n",
      " |  \n",
      " |  See:\n",
      " |   itk::CompositeTransform\n",
      " |  \n",
      " |  \n",
      " |  C++ includes: sitkTransform.h\n",
      " |  \n",
      " |  Methods defined here:\n",
      " |  \n",
      " |  AddTransform(self, t)\n",
      " |      AddTransform(Transform self, Transform t)\n",
      " |  \n",
      " |  GetDimension(self)\n",
      " |      GetDimension(Transform self) -> unsigned int\n",
      " |      \n",
      " |      \n",
      " |      \n",
      " |      Return the dimension of the Transform ( 2D or 3D )\n",
      " |  \n",
      " |  GetFixedParameters(self)\n",
      " |      GetFixedParameters(Transform self) -> VectorDouble\n",
      " |  \n",
      " |  GetITKBase(self, *args)\n",
      " |      GetITKBase(Transform self) -> itk::TransformBase\n",
      " |      GetITKBase(Transform self) -> itk::TransformBase const *\n",
      " |  \n",
      " |  GetInverse(self)\n",
      " |      GetInverse(Transform self) -> Transform\n",
      " |      \n",
      " |      \n",
      " |      \n",
      " |      Return a new inverse transform of the same type as this.\n",
      " |      \n",
      " |      \n",
      " |      Creates a new transform object and tries to set the value to the\n",
      " |      inverse. As not all transform types have inverse and some transforms\n",
      " |      are not invertable, an exception will be throw is there is no inverse.\n",
      " |  \n",
      " |  GetName(self)\n",
      " |      GetName(Transform self) -> std::string\n",
      " |      \n",
      " |      \n",
      " |      \n",
      " |      return user readable name for the SimpleITK transform\n",
      " |  \n",
      " |  GetParameters(self)\n",
      " |      GetParameters(Transform self) -> VectorDouble\n",
      " |  \n",
      " |  IsLinear(self)\n",
      " |      IsLinear(Transform self) -> bool\n",
      " |  \n",
      " |  MakeUnique(self)\n",
      " |      MakeUnique(Transform self)\n",
      " |      \n",
      " |      \n",
      " |      \n",
      " |      Performs actually coping if needed to make object unique.\n",
      " |      \n",
      " |      \n",
      " |      The Transform class by default performs lazy coping and assignment. This method\n",
      " |      make sure that coping actually happens to the itk::Transform pointed to is only pointed to by this object.\n",
      " |  \n",
      " |  SetFixedParameters(self, parameters)\n",
      " |      SetFixedParameters(Transform self, VectorDouble parameters)\n",
      " |  \n",
      " |  SetIdentity(self)\n",
      " |      SetIdentity(Transform self)\n",
      " |  \n",
      " |  SetInverse(self)\n",
      " |      SetInverse(Transform self) -> bool\n",
      " |      \n",
      " |      \n",
      " |      \n",
      " |      Try to change the current transform to it's inverse.\n",
      " |      \n",
      " |      \n",
      " |      If the transform has an inverse, i.e. non-singular linear transforms,\n",
      " |      then a new ITK transform is created of the same type and this object\n",
      " |      is set to it.\n",
      " |      \n",
      " |      However not all transform have a direct inverse, if the inverse does\n",
      " |      not exist or fails false will be returned and this transform will not\n",
      " |      be modified.\n",
      " |  \n",
      " |  SetParameters(self, parameters)\n",
      " |      SetParameters(Transform self, VectorDouble parameters)\n",
      " |  \n",
      " |  TransformPoint(self, point)\n",
      " |      TransformPoint(Transform self, VectorDouble point) -> VectorDouble\n",
      " |  \n",
      " |  WriteTransform(self, filename)\n",
      " |      WriteTransform(Transform self, std::string const & filename)\n",
      " |  \n",
      " |  __del__ lambda self\n",
      " |  \n",
      " |  __getattr__ lambda self, name\n",
      " |  \n",
      " |  __init__(self, *args)\n",
      " |      __init__(itk::simple::Transform self) -> Transform\n",
      " |      __init__(itk::simple::Transform self, itk::TransformBase * transform) -> Transform\n",
      " |      __init__(itk::simple::Transform self, unsigned int dimensions, itk::simple::TransformEnum type) -> Transform\n",
      " |      __init__(itk::simple::Transform self, Image displacement, itk::simple::TransformEnum type) -> Transform\n",
      " |      __init__(itk::simple::Transform self, Transform arg2) -> Transform\n",
      " |      \n",
      " |      \n",
      " |      \n",
      " |      Use an image to construct a transform.\n",
      " |      \n",
      " |      \n",
      " |      The input displacement image is transferred to the constructed\n",
      " |      transform object. The input image is modified to be a default\n",
      " |      constructed Image object.\n",
      " |      \n",
      " |      Only the sitkDisplacementField transformation type can currently be\n",
      " |      constructed this way. Image must be of sitkVectorFloat64 pixel type with the number of components\n",
      " |      equal to the image dimension.\n",
      " |      \n",
      " |      Deprecated\n",
      " |      This constructor will be removed in future releases.\n",
      " |  \n",
      " |  __repr__ = _swig_repr(self)\n",
      " |  \n",
      " |  __setattr__ lambda self, name, value\n",
      " |  \n",
      " |  __str__(self)\n",
      " |      __str__(Transform self) -> std::string\n",
      " |  \n",
      " |  __swig_destroy__ = delete_Transform(...)\n",
      " |      delete_Transform(Transform self)\n",
      " |  \n",
      " |  ----------------------------------------------------------------------\n",
      " |  Data descriptors defined here:\n",
      " |  \n",
      " |  __dict__\n",
      " |      dictionary for instance variables (if defined)\n",
      " |  \n",
      " |  __weakref__\n",
      " |      list of weak references to the object (if defined)\n",
      " |  \n",
      " |  ----------------------------------------------------------------------\n",
      " |  Data and other attributes defined here:\n",
      " |  \n",
      " |  __swig_getmethods__ = {}\n",
      " |  \n",
      " |  __swig_setmethods__ = {}\n",
      "\n"
     ]
    }
   ],
   "source": [
    "help(sitk.Transform)"
   ]
  },
  {
   "cell_type": "code",
   "execution_count": 6,
   "metadata": {},
   "outputs": [
    {
     "name": "stdout",
     "output_type": "stream",
     "text": [
      "(512, 512, 908)\n",
      "(0.7890625, 0.7890625, 0.699999988079071)\n",
      "(193.60499572753906, 56.605499267578125, -629.9000244140625)\n",
      "(-1.0, 0.0, 0.0, 0.0, -1.0, 0.0, 0.0, 0.0, 1.0)\n"
     ]
    }
   ],
   "source": [
    "label_path = '/Users/messi/Documents/PythonProjects/msd/dataset/Task03_Liver/labelsTr/liver_116.nii.gz'\n",
    "sitk_label = sitk.ReadImage(label_path)\n",
    "print(sitk_label.GetSize())\n",
    "print(sitk_label.GetSpacing())\n",
    "print(sitk_label.GetOrigin())\n",
    "print(sitk_label.GetDirection())"
   ]
  },
  {
   "cell_type": "code",
   "execution_count": 22,
   "metadata": {},
   "outputs": [
    {
     "name": "stdout",
     "output_type": "stream",
     "text": [
      "(512, 512)\n",
      "<class 'tuple'>\n",
      "(0.7890625, 0.7890625)\n",
      "(193.60499572753906, 56.605499267578125)\n",
      "(-1.0, 0.0, 0.0, -1.0)\n",
      "<class 'tuple'>\n"
     ]
    },
    {
     "data": {
      "image/png": "[encoded data removed]",
      "text/plain": [
       "<Figure size 216x216 with 1 Axes>"
      ]
     },
     "metadata": {},
     "output_type": "display_data"
    }
   ],
   "source": [
    "# slice one x,y plane\n",
    "slice100 = sitk_label[:,:,607]\n",
    "print(slice100.GetSize())\n",
    "print(type(slice100.GetSize()))\n",
    "print(slice100.GetSpacing())\n",
    "print(slice100.GetOrigin())\n",
    "print(slice100.GetDirection())\n",
    "print(type(slice100.GetDirection()))\n",
    "img = sitk.GetArrayFromImage(slice100)\n",
    "img = img[::-1,::-1]\n",
    "myshow([img], 1,1,figsize=(3,3))"
   ]
  },
  {
   "cell_type": "markdown",
   "metadata": {},
   "source": [
    "### resample to fixed spacings"
   ]
  },
  {
   "cell_type": "code",
   "execution_count": 8,
   "metadata": {},
   "outputs": [
    {
     "name": "stdout",
     "output_type": "stream",
     "text": [
      "[1010 1010]\n"
     ]
    }
   ],
   "source": [
    "# resample to fixed spacings\n",
    "newSpacing = [0.4,0.4]\n",
    "newSize = np.asarray(slice100.GetSize())*np.asarray(slice100.GetSpacing())/np.asarray(newSpacing)\n",
    "newSize = newSize.astype(dtype=int)\n",
    "print(newSize)"
   ]
  },
  {
   "cell_type": "code",
   "execution_count": 9,
   "metadata": {},
   "outputs": [
    {
     "data": {
      "image/png": "[encoded data removed]",
      "text/plain": [
       "<Figure size 432x432 with 1 Axes>"
      ]
     },
     "metadata": {},
     "output_type": "display_data"
    }
   ],
   "source": [
    "fixedSpacImage = sitk.Resample(slice100, newSize.tolist(), sitk.Transform(), sitk.sitkNearestNeighbor, slice100.GetOrigin(), tuple(newSpacing), slice100.GetDirection())\n",
    "img = sitk.GetArrayFromImage(fixedSpacImage)[::-1,::-1]\n",
    "myshow([img], 1,1,figsize=(6,6))"
   ]
  },
  {
   "cell_type": "markdown",
   "metadata": {},
   "source": [
    "### resample to fixed size"
   ]
  },
  {
   "cell_type": "code",
   "execution_count": 10,
   "metadata": {
    "scrolled": true
   },
   "outputs": [
    {
     "data": {
      "image/png": "[encoded data removed]",
      "text/plain": [
       "<Figure size 216x216 with 1 Axes>"
      ]
     },
     "metadata": {},
     "output_type": "display_data"
    },
    {
     "name": "stdout",
     "output_type": "stream",
     "text": [
      "(512, 512)\n"
     ]
    }
   ],
   "source": [
    "### resample to fixed size\n",
    "# the example is resample the above resampled image back \n",
    "newSize = np.asarray(slice100.GetSize(), dtype=int)\n",
    "fixedSizeImage = sitk.Resample(fixedSpacImage, newSize.tolist(), sitk.Transform(), sitk.sitkNearestNeighbor, slice100.GetOrigin(), slice100.GetSpacing(), slice100.GetDirection())\n",
    "img = sitk.GetArrayFromImage(fixedSizeImage)[::-1,::-1]\n",
    "myshow([img], 1,1,figsize=(3,3))\n",
    "print(fixedSizeImage.GetSize())"
   ]
  },
  {
   "cell_type": "markdown",
   "metadata": {},
   "source": [
    "### resample a numpy array to fixed size"
   ]
  },
  {
   "cell_type": "code",
   "execution_count": 15,
   "metadata": {},
   "outputs": [],
   "source": [
    "# resample a numpy array to fixed size\n",
    "# create sitk_array from array\n",
    "array = sitk.GetArrayFromImage(fixedSpacImage)\n",
    "sitk_array = sitk.GetImageFromArray(array)\n",
    "sitk_array.SetOrigin(slice100.GetOrigin())\n",
    "sitk_array.SetSpacing(tuple(newSpacing))\n",
    "sitk_array.SetDirection(slice100.GetDirection())"
   ]
  },
  {
   "cell_type": "code",
   "execution_count": 20,
   "metadata": {
    "scrolled": true
   },
   "outputs": [
    {
     "data": {
      "image/png": "[encoded data removed]",
      "text/plain": [
       "<Figure size 216x216 with 1 Axes>"
      ]
     },
     "metadata": {},
     "output_type": "display_data"
    },
    {
     "name": "stdout",
     "output_type": "stream",
     "text": [
      "(512, 512)\n"
     ]
    }
   ],
   "source": [
    "newSize = np.asarray(slice100.GetSize(), dtype=int)\n",
    "fixedSizeImage = sitk.Resample(sitk_array, newSize.tolist(), sitk.Transform(), sitk.sitkNearestNeighbor, slice100.GetOrigin(), slice100.GetSpacing(), slice100.GetDirection())\n",
    "img = sitk.GetArrayFromImage(fixedSizeImage)[::-1,::-1]\n",
    "myshow([img], 1,1,figsize=(3,3))\n",
    "print(fixedSizeImage.GetSize())"
   ]
  },
  {
   "cell_type": "code",
   "execution_count": null,
   "metadata": {},
   "outputs": [],
   "source": []
  }
 ],
 "metadata": {
  "kernelspec": {
   "display_name": "Python 3",
   "language": "python",
   "name": "python3"
  },
  "language_info": {
   "codemirror_mode": {
    "name": "ipython",
    "version": 3
   },
   "file_extension": ".py",
   "mimetype": "text/x-python",
   "name": "python",
   "nbconvert_exporter": "python",
   "pygments_lexer": "ipython3",
   "version": "3.6.5"
  },
  "toc": {
   "nav_menu": {},
   "number_sections": true,
   "sideBar": true,
   "skip_h1_title": false,
   "toc_cell": false,
   "toc_position": {},
   "toc_section_display": "block",
   "toc_window_display": false
  }
 },
 "nbformat": 4,
 "nbformat_minor": 2
}
